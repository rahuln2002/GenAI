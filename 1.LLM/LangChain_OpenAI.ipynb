{
  "cells": [
    {
      "cell_type": "markdown",
      "metadata": {},
      "source": [
        "# LLM"
      ]
    },
    {
      "cell_type": "code",
      "execution_count": 1,
      "metadata": {
        "colab": {
          "base_uri": "https://localhost:8080/",
          "height": 356
        },
        "id": "qx_d9XJFm77k",
        "outputId": "54afba28-99bf-4f63-df89-24bff7ecf2aa"
      },
      "outputs": [],
      "source": [
        "import os\n",
        "from getpass import getpass"
      ]
    },
    {
      "cell_type": "markdown",
      "metadata": {},
      "source": [
        "## Langchain"
      ]
    },
    {
      "cell_type": "markdown",
      "metadata": {},
      "source": [
        "### OpenAI"
      ]
    },
    {
      "cell_type": "code",
      "execution_count": 2,
      "metadata": {},
      "outputs": [],
      "source": [
        "os.environ['OPENAI_API_KEY'] = getpass(\"Enter OpenAI key: \")"
      ]
    },
    {
      "cell_type": "code",
      "execution_count": null,
      "metadata": {
        "id": "OBteLVmqnOCd"
      },
      "outputs": [],
      "source": [
        "from langchain_openai import OpenAI, ChatOpenAI\n",
        "\n",
        "gpt3_model = ChatOpenAI(model_name = \"gpt-3.5-turbo-0125\")"
      ]
    },
    {
      "cell_type": "code",
      "execution_count": null,
      "metadata": {
        "colab": {
          "base_uri": "https://localhost:8080/"
        },
        "id": "dwP8X-UJoUwq",
        "outputId": "b427c216-2a9a-4de9-b043-03ad767da32e"
      },
      "outputs": [],
      "source": [
        "print(gpt3_model.invoke(\"What is internet?\"))"
      ]
    },
    {
      "cell_type": "code",
      "execution_count": null,
      "metadata": {
        "colab": {
          "base_uri": "https://localhost:8080/"
        },
        "id": "GiGYMiICpo9L",
        "outputId": "edb1fd68-c14e-43bb-ec07-79f8eec381e2"
      },
      "outputs": [],
      "source": [
        "gpt3_model.invoke(\"What is AI and NLP?\")"
      ]
    },
    {
      "cell_type": "markdown",
      "metadata": {},
      "source": [
        "### Together"
      ]
    },
    {
      "cell_type": "code",
      "execution_count": 2,
      "metadata": {},
      "outputs": [],
      "source": [
        "os.environ['TOGETHER_API_KEY']  = getpass(\"Enter OpenAI key: \")"
      ]
    },
    {
      "cell_type": "code",
      "execution_count": 3,
      "metadata": {
        "colab": {
          "base_uri": "https://localhost:8080/"
        },
        "id": "GVKTXehuaoh8",
        "outputId": "c6e4cc4c-269e-4afe-a662-499a70cc5daf"
      },
      "outputs": [],
      "source": [
        "from langchain_together import Together\n",
        "\n",
        "llama_model = Together(\n",
        "    model = \"Qwen/Qwen1.5-72B-Chat\",\n",
        "    temperature=0.7,\n",
        ")"
      ]
    },
    {
      "cell_type": "code",
      "execution_count": 10,
      "metadata": {},
      "outputs": [],
      "source": [
        "print(llama_model.predict(\"What are volcanoes?\"))"
      ]
    },
    {
      "cell_type": "code",
      "execution_count": null,
      "metadata": {
        "colab": {
          "base_uri": "https://localhost:8080/"
        },
        "id": "Q0P6tlqiEMtC",
        "outputId": "7e6bbc59-31c1-4ae5-c95b-49ff97c7b931"
      },
      "outputs": [],
      "source": [
        "print(gpt3_model.invoke(\"Give me 3 tweets on World War 1\"))"
      ]
    },
    {
      "cell_type": "code",
      "execution_count": null,
      "metadata": {},
      "outputs": [],
      "source": [
        "print(llama_model.predict(\"Who is Barack Obama?\"))"
      ]
    },
    {
      "cell_type": "markdown",
      "metadata": {},
      "source": [
        "### Prompt Template"
      ]
    },
    {
      "cell_type": "code",
      "execution_count": 7,
      "metadata": {
        "id": "ISLTNzK8qWfw"
      },
      "outputs": [],
      "source": [
        "from langchain import PromptTemplate\n",
        "\n",
        "tweet_template = \"\"\"\n",
        "Give me {number} tweets on {topic}.\n",
        "\"\"\"\n",
        "\n",
        "tweet_prompt = PromptTemplate(template = tweet_template, input_variables = ['number', 'topic'])\n"
      ]
    },
    {
      "cell_type": "code",
      "execution_count": null,
      "metadata": {
        "colab": {
          "base_uri": "https://localhost:8080/",
          "height": 35
        },
        "id": "Y9Yp6sOzt7ED",
        "outputId": "2381f947-4642-41e4-fa64-91a2fdcbed43"
      },
      "outputs": [],
      "source": [
        "print(tweet_template.format(number =7, topic = \"AI\"))"
      ]
    },
    {
      "cell_type": "markdown",
      "metadata": {},
      "source": [
        "### Chain"
      ]
    },
    {
      "cell_type": "code",
      "execution_count": 10,
      "metadata": {
        "id": "k02dkG3uuPPU"
      },
      "outputs": [],
      "source": [
        "from langchain import LLMChain\n",
        "\n",
        "tweet_chain = LLMChain(\n",
        "                        prompt = tweet_prompt,\n",
        "                        llm = llama_model\n",
        ")"
      ]
    },
    {
      "cell_type": "code",
      "execution_count": null,
      "metadata": {
        "colab": {
          "base_uri": "https://localhost:8080/"
        },
        "id": "CHoHss0NvQgF",
        "outputId": "2ffbfc7b-826d-4845-8905-d9068832668d"
      },
      "outputs": [],
      "source": [
        "print(tweet_chain.run(number = 10, topic = \"AI\"))"
      ]
    },
    {
      "cell_type": "code",
      "execution_count": null,
      "metadata": {
        "colab": {
          "base_uri": "https://localhost:8080/",
          "height": 512
        },
        "id": "-eZ46A2lvUR-",
        "outputId": "43fef16d-8fab-471d-b3c3-8e7a88c497a9"
      },
      "outputs": [],
      "source": [
        "while True:\n",
        "  topic = input(\"Tweet topic: \")\n",
        "  number = input(\"Number of tweets: \")\n",
        "  response = tweet_chain.run(number = eval(number), topic = topic)\n",
        "  print(response)"
      ]
    },
    {
      "cell_type": "markdown",
      "metadata": {},
      "source": [
        "## Prompt Engineering"
      ]
    },
    {
      "cell_type": "code",
      "execution_count": null,
      "metadata": {
        "id": "pJ2Yo_yHrdyo"
      },
      "outputs": [],
      "source": [
        "from langchain_openai import ChatOpenAI\n",
        "\n",
        "gpt4_model = ChatOpenAI(model_name = \"gpt-4-0125-preview\")"
      ]
    },
    {
      "cell_type": "markdown",
      "metadata": {
        "id": "j_1ggdFqzlSp"
      },
      "source": [
        "### Few Shot Prompting"
      ]
    },
    {
      "cell_type": "code",
      "execution_count": null,
      "metadata": {
        "colab": {
          "base_uri": "https://localhost:8080/"
        },
        "id": "w6jWnXcQzGg5",
        "outputId": "486680d6-c613-45d9-e8a8-edbf243c6d4c"
      },
      "outputs": [],
      "source": [
        "response = gpt4_model.invoke(\"Give me a tweet on Syria\")\n",
        "print(response.content)"
      ]
    },
    {
      "cell_type": "code",
      "execution_count": null,
      "metadata": {
        "colab": {
          "base_uri": "https://localhost:8080/"
        },
        "id": "BRhbUDNIp1AO",
        "outputId": "ada473e3-9d8a-44e4-f52b-bfa230366292"
      },
      "outputs": [],
      "source": [
        "response = gpt4_model.invoke(\"\"\"Give me a tweet on Syria\n",
        "\n",
        "The tweets should follow the below tone:\n",
        "\"Russia's continued aggression towards Ukraine is unacceptable and a threat to global security. The international community must take a stand against this blatant violation of sovereignty. #StandWithUkraine\"\n",
        "\"Russia's human rights record is abysmal, with frequent reports of political repression, censorship, and discrimination against minority groups. It's time for the world to hold Russia accountable for its actions. #HumanRights\"\n",
        "\n",
        "\n",
        "\"\"\")\n",
        "\n",
        "print(response.content)"
      ]
    },
    {
      "cell_type": "code",
      "execution_count": null,
      "metadata": {
        "colab": {
          "base_uri": "https://localhost:8080/"
        },
        "id": "TdTMTWyzzUzC",
        "outputId": "7915bf0e-d354-4dec-e6ad-adb103b11b52"
      },
      "outputs": [],
      "source": [
        "response = gpt4_model.invoke(\"\"\"\n",
        "Give me a question on Newton's Laws of Motion.\n",
        "\"\"\")\n",
        "\n",
        "print(response.content)"
      ]
    },
    {
      "cell_type": "code",
      "execution_count": null,
      "metadata": {
        "colab": {
          "base_uri": "https://localhost:8080/"
        },
        "id": "R_dIf1p3zoc0",
        "outputId": "c23a8bba-4197-40da-991c-17056100633f"
      },
      "outputs": [],
      "source": [
        "response = gpt4_model.invoke(\"\"\"\n",
        "Give me a question on Newton's Laws of Motion.\n",
        "\n",
        "Consider the below question as an example.\n",
        "Q. Which of the following is Newton's Law?\n",
        "a.F = ma\n",
        "b.E = mc2\n",
        "c.ke = mv2\n",
        "d.pe = mgh\n",
        "\n",
        "\n",
        "\"\"\")\n",
        "\n",
        "print(response.content)"
      ]
    },
    {
      "cell_type": "markdown",
      "metadata": {
        "id": "PHAqeuwrzoYe"
      },
      "source": [
        "### Persona-based Prompting"
      ]
    },
    {
      "cell_type": "code",
      "execution_count": null,
      "metadata": {
        "colab": {
          "base_uri": "https://localhost:8080/"
        },
        "id": "pnTUnKtYp2Zx",
        "outputId": "c93264a3-74d3-497b-a762-79a2dffc9b7f"
      },
      "outputs": [],
      "source": [
        "response = gpt4_model.invoke(\"\"\"You are Shakespeare, a poet known for his unique writing style.\n",
        "\n",
        "Give me a tweet on India.\n",
        "\n",
        "\"\"\")\n",
        "print(response.content)"
      ]
    },
    {
      "cell_type": "code",
      "execution_count": null,
      "metadata": {
        "colab": {
          "base_uri": "https://localhost:8080/"
        },
        "id": "09hh3_qo1lyX",
        "outputId": "5ae733b3-98db-4f6d-8395-d553b207b534"
      },
      "outputs": [],
      "source": [
        "response = gpt4_model.invoke(\"\"\"You are Rabindranath Tagore, a great Indian poet.\n",
        "\n",
        "Give me a tweet on India.\n",
        "\n",
        "\"\"\")\n",
        "print(response.content)"
      ]
    },
    {
      "cell_type": "code",
      "execution_count": null,
      "metadata": {
        "colab": {
          "base_uri": "https://localhost:8080/"
        },
        "id": "jO8YxNdR2sK_",
        "outputId": "b0466134-8494-4567-f528-c91c410b2bc2"
      },
      "outputs": [],
      "source": [
        "response = gpt4_model.invoke(\"\"\"You are James, the Janitor.\n",
        "\n",
        "Give me a tweet on India.\n",
        "\n",
        "\"\"\")\n",
        "print(response.content)"
      ]
    },
    {
      "cell_type": "markdown",
      "metadata": {
        "id": "pD2UAGOBzr6g"
      },
      "source": [
        "### Chain of Thought Prompting"
      ]
    },
    {
      "cell_type": "code",
      "execution_count": null,
      "metadata": {
        "colab": {
          "base_uri": "https://localhost:8080/"
        },
        "id": "h85dxOWksqcC",
        "outputId": "2cbd3451-d211-4fef-96da-a1c7248db61c"
      },
      "outputs": [],
      "source": [
        "response = gpt4_model.invoke(\"\"\"\n",
        "If 20 wet shirts take 5 hours to dry. How much time will it take to dry 100 shirts?\n",
        "\"\"\")\n",
        "\n",
        "print(response.content)"
      ]
    },
    {
      "cell_type": "code",
      "execution_count": null,
      "metadata": {
        "colab": {
          "base_uri": "https://localhost:8080/"
        },
        "id": "BjGZG4vhviAe",
        "outputId": "9e6ba47e-d889-42e1-fbd2-8c00b4b30842"
      },
      "outputs": [],
      "source": [
        "response = gpt4_model.invoke(\"\"\"\n",
        "Think step by step:\n",
        "If 20 shirts take 5 hours to dry. How much time will it take to dry 100 shirts simultaneously?\n",
        "\"\"\")\n",
        "\n",
        "print(response.content)"
      ]
    },
    {
      "cell_type": "markdown",
      "metadata": {
        "id": "94K4dUCOFl5Z"
      },
      "source": [
        "### Emotional Prompting"
      ]
    },
    {
      "cell_type": "code",
      "execution_count": null,
      "metadata": {
        "colab": {
          "base_uri": "https://localhost:8080/"
        },
        "id": "pkf_9PYmFkC9",
        "outputId": "28e163cb-93d3-413e-bb69-0201dfc49847"
      },
      "outputs": [],
      "source": [
        "response = llama_model.predict(\"\"\"\n",
        "\n",
        "Give me robust python code to create a snake game.\n",
        "\n",
        "# I will tip you $2000 if you write good code. Will penalise if you don't.\n",
        "\n",
        "Every time you give a wrong answer, a kitten dies. Give good answers and Save the Kittens.\n",
        "\"\"\")\n",
        "\n",
        "print(response)"
      ]
    }
  ],
  "metadata": {
    "colab": {
      "provenance": []
    },
    "kernelspec": {
      "display_name": "Python 3",
      "name": "python3"
    },
    "language_info": {
      "codemirror_mode": {
        "name": "ipython",
        "version": 3
      },
      "file_extension": ".py",
      "mimetype": "text/x-python",
      "name": "python",
      "nbconvert_exporter": "python",
      "pygments_lexer": "ipython3",
      "version": "3.11.5"
    }
  },
  "nbformat": 4,
  "nbformat_minor": 0
}
