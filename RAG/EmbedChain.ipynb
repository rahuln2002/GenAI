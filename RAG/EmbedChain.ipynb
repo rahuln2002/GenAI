{
  "cells": [
    {
      "cell_type": "code",
      "execution_count": 13,
      "metadata": {
        "id": "oDiDMlbEEewB"
      },
      "outputs": [],
      "source": [
        "!pip install --quiet embedchain"
      ]
    },
    {
      "cell_type": "code",
      "execution_count": null,
      "metadata": {
        "colab": {
          "base_uri": "https://localhost:8080/"
        },
        "id": "5Sue375pEmQ4",
        "outputId": "c9d5512b-2f2b-4c1f-8ffb-bb0e07f2b876"
      },
      "outputs": [],
      "source": [
        "import os\n",
        "from getpass import getpass\n",
        "\n",
        "os.environ['OPENAI_API_KEY'] = getpass(\"Enter OpenAI key: \")"
      ]
    },
    {
      "cell_type": "code",
      "execution_count": null,
      "metadata": {
        "id": "AdqgkuxFE1aB"
      },
      "outputs": [],
      "source": [
        "from embedchain import App\n",
        "\n",
        "bot = App()"
      ]
    },
    {
      "cell_type": "code",
      "execution_count": null,
      "metadata": {
        "colab": {
          "base_uri": "https://localhost:8080/",
          "height": 90
        },
        "id": "31z8xobKFBxw",
        "outputId": "f50e36cb-2521-4fcb-9e72-0f4203a49893"
      },
      "outputs": [],
      "source": [
        "bot.add(\"./Rahul_Nihalani_Resume.pdf\")"
      ]
    },
    {
      "cell_type": "code",
      "execution_count": null,
      "metadata": {
        "colab": {
          "base_uri": "https://localhost:8080/",
          "height": 105
        },
        "id": "jsEAdDBXFnfd",
        "outputId": "15cd9b25-e507-46f7-b530-9005ea24d58e"
      },
      "outputs": [
        {
          "data": {
            "application/vnd.google.colaboratory.intrinsic+json": {
              "type": "string"
            },
            "text/plain": [
              "'The person in the resume, Rahul Nihalani, is a skilled individual with technical expertise in Python, MySQL, Java, HTML, CSS, Machine Learning, Deep Learning, Computer Vision, and Natural Language Processing. He has experience in projects such as Skin Burn Detection using AlexNET model and Indian Sign Language Recognition using LSTM Model. Rahul has also been involved in extracurricular activities like sports events and club memberships. He holds a Silver Medal in a relay race, has achieved certifications in Python and Machine Learning, and has a strong academic background with a CGPA of 9.04/10 in his ongoing M.Tech (AI) program at VIT Bhopal University.'"
            ]
          },
          "execution_count": 9,
          "metadata": {},
          "output_type": "execute_result"
        }
      ],
      "source": [
        "bot.query(\"Summary of person in resume?\")"
      ]
    }
  ],
  "metadata": {
    "colab": {
      "provenance": []
    },
    "kernelspec": {
      "display_name": "Python 3",
      "name": "python3"
    },
    "language_info": {
      "name": "python"
    }
  },
  "nbformat": 4,
  "nbformat_minor": 0
}
