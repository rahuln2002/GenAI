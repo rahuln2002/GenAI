{
  "cells": [
    {
      "cell_type": "markdown",
      "metadata": {},
      "source": [
        "# S2T"
      ]
    },
    {
      "cell_type": "code",
      "execution_count": null,
      "metadata": {
        "colab": {
          "base_uri": "https://localhost:8080/"
        },
        "id": "Cpa1teM12EFE",
        "outputId": "6689c75d-c39d-48d2-8e34-af48a491b856"
      },
      "outputs": [],
      "source": [
        "!pip install --quiet openai"
      ]
    },
    {
      "cell_type": "code",
      "execution_count": 1,
      "metadata": {
        "colab": {
          "base_uri": "https://localhost:8080/"
        },
        "id": "1PiAwdwY2u23",
        "outputId": "e256df8f-12be-435d-f4a2-a898771ba7f8"
      },
      "outputs": [],
      "source": [
        "from getpass import getpass\n",
        "import os"
      ]
    },
    {
      "cell_type": "code",
      "execution_count": 2,
      "metadata": {},
      "outputs": [],
      "source": [
        "os.environ['OPENAI_API_KEY'] = getpass()"
      ]
    },
    {
      "cell_type": "code",
      "execution_count": 3,
      "metadata": {
        "id": "La__owFY18g1"
      },
      "outputs": [],
      "source": [
        "from openai import OpenAI\n",
        "client = OpenAI()"
      ]
    },
    {
      "cell_type": "markdown",
      "metadata": {},
      "source": [
        "## Whisper-1 model"
      ]
    },
    {
      "cell_type": "code",
      "execution_count": 4,
      "metadata": {
        "colab": {
          "base_uri": "https://localhost:8080/"
        },
        "id": "Km7H72UL27Lx",
        "outputId": "ba804aad-c788-4667-dee2-dfbbea35d63b"
      },
      "outputs": [
        {
          "name": "stdout",
          "output_type": "stream",
          "text": [
            "Cause baby now we got bad blood You know it used to be mad love So take a look what you've done Cause baby now we got bad blood Now we got problems And I don't think we can solve them You made a really deep cut And baby now we got bad blood Did you have to do this? I was thinking that you could be trusted Did you have to ruin what was shiny? Now it's all rusted Did you have to hit me where I'm weak? Baby I couldn't breathe And rubbed it in so deep Salt in the wound like you're laughing right at me Oh it's so sad to Think about the good times You and I Cause baby now we got bad blood You know it used to be mad love So take a look what you've done Cause baby now we got bad blood Now we got problems And I don't think we can solve them You made a really deep cut And baby now we got bad blood Did you think we'd be fine? Still got scars on my back from your knife Don't think it's in the past These kind of wounds they last and they last now Did you think it all through? All these things will catch up to you And time can heal but this won't So if you're coming my way just don't Oh it's so sad to Think about the good times You and I Cause baby now we got bad blood You know it used to be mad love So take a look what you've done Cause baby now we got bad blood Now we got problems And I don't think we can solve them You made a really deep cut And baby now we got bad blood Band-aids don't fix bullet holes You'll say sorry just for show If you live like that you live with ghosts Band-aids don't fix bullet holes You'll say sorry just for show If you live like that you live with ghosts If you love like that blood runs out Cause baby now we got bad blood You know it used to be mad love So take a look what you've done Cause baby now we got bad blood Now we got problems And I don't think we can solve them You made a really deep cut And baby now we got bad blood Cause baby now we got bad blood You know it used to be mad love So take a look what you've done Cause baby now we got bad blood And I don't think we can solve them You made a really deep cut And baby now we got bad blood\n",
            "\n"
          ]
        }
      ],
      "source": [
        "audio_file = open(\"./Taylor-Swift-Bad-Blood.mp3\", \"rb\")\n",
        "transcript = client.audio.transcriptions.create(\n",
        "  model=\"whisper-1\",\n",
        "  file=audio_file,\n",
        "  response_format=\"text\"\n",
        ")\n",
        "\n",
        "print(transcript)"
      ]
    },
    {
      "cell_type": "code",
      "execution_count": 5,
      "metadata": {},
      "outputs": [],
      "source": [
        "from langchain_openai import ChatOpenAI"
      ]
    },
    {
      "cell_type": "markdown",
      "metadata": {},
      "source": [
        "## Whisper-1 with GPT"
      ]
    },
    {
      "cell_type": "code",
      "execution_count": 6,
      "metadata": {
        "tags": []
      },
      "outputs": [],
      "source": [
        "def summarise(meeting_audio):\n",
        "  audio_file = open(meeting_audio, \"rb\")\n",
        "  transcript = client.audio.transcriptions.create(\n",
        "                        model=\"whisper-1\",\n",
        "                        file=audio_file,\n",
        "                        response_format=\"text\"\n",
        "                      )\n",
        "\n",
        "  llm = ChatOpenAI(model = \"gpt-3.5-turbo\")\n",
        "  result = llm.invoke(f\"\"\" Summarise the below transcript into 3 bullet points\n",
        "                  {transcript}\n",
        "  \"\"\")\n",
        "\n",
        "  return result.content"
      ]
    },
    {
      "cell_type": "code",
      "execution_count": 8,
      "metadata": {},
      "outputs": [
        {
          "name": "stdout",
          "output_type": "stream",
          "text": [
            "- The speaker is reflecting on a past relationship that has now turned sour and is filled with bad blood\n",
            "- The lyrics describe feelings of betrayal, hurt, and disappointment from the actions of the other person in the relationship\n",
            "- The speaker acknowledges that the problems in the relationship cannot be easily solved and that there are lasting wounds from the past.\n"
          ]
        }
      ],
      "source": [
        "print(summarise(\"./Taylor-Swift-Bad-Blood.mp3\"))"
      ]
    }
  ],
  "metadata": {
    "accelerator": "GPU",
    "colab": {
      "gpuType": "T4",
      "provenance": []
    },
    "kernelspec": {
      "display_name": "Python 3",
      "name": "python3"
    },
    "language_info": {
      "codemirror_mode": {
        "name": "ipython",
        "version": 3
      },
      "file_extension": ".py",
      "mimetype": "text/x-python",
      "name": "python",
      "nbconvert_exporter": "python",
      "pygments_lexer": "ipython3",
      "version": "3.11.5"
    }
  },
  "nbformat": 4,
  "nbformat_minor": 0
}
