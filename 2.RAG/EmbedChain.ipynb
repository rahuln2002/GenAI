{
  "cells": [
    {
      "cell_type": "code",
      "execution_count": 13,
      "metadata": {
        "id": "oDiDMlbEEewB"
      },
      "outputs": [],
      "source": [
        "!pip install --quiet embedchain"
      ]
    },
    {
      "cell_type": "code",
      "execution_count": 1,
      "metadata": {
        "colab": {
          "base_uri": "https://localhost:8080/"
        },
        "id": "5Sue375pEmQ4",
        "outputId": "c9d5512b-2f2b-4c1f-8ffb-bb0e07f2b876"
      },
      "outputs": [],
      "source": [
        "import os\n",
        "from getpass import getpass\n",
        "\n",
        "os.environ['OPENAI_API_KEY'] = getpass(\"Enter OpenAI key: \")"
      ]
    },
    {
      "cell_type": "code",
      "execution_count": 2,
      "metadata": {
        "id": "AdqgkuxFE1aB"
      },
      "outputs": [],
      "source": [
        "from embedchain import App\n",
        "\n",
        "bot = App()"
      ]
    },
    {
      "cell_type": "code",
      "execution_count": null,
      "metadata": {
        "colab": {
          "base_uri": "https://localhost:8080/",
          "height": 90
        },
        "id": "31z8xobKFBxw",
        "outputId": "f50e36cb-2521-4fcb-9e72-0f4203a49893"
      },
      "outputs": [],
      "source": [
        "bot.add(\"./Rahul_Nihalani_Resume.pdf\")"
      ]
    },
    {
      "cell_type": "code",
      "execution_count": null,
      "metadata": {
        "colab": {
          "base_uri": "https://localhost:8080/",
          "height": 105
        },
        "id": "jsEAdDBXFnfd",
        "outputId": "15cd9b25-e507-46f7-b530-9005ea24d58e"
      },
      "outputs": [],
      "source": [
        "bot.query(\"Summary of person in resume?\")"
      ]
    }
  ],
  "metadata": {
    "colab": {
      "provenance": []
    },
    "kernelspec": {
      "display_name": "Python 3",
      "name": "python3"
    },
    "language_info": {
      "codemirror_mode": {
        "name": "ipython",
        "version": 3
      },
      "file_extension": ".py",
      "mimetype": "text/x-python",
      "name": "python",
      "nbconvert_exporter": "python",
      "pygments_lexer": "ipython3",
      "version": "3.11.5"
    }
  },
  "nbformat": 4,
  "nbformat_minor": 0
}
