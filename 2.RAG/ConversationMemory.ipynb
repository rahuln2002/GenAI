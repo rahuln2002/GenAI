{
  "cells": [
    {
      "cell_type": "markdown",
      "metadata": {},
      "source": [
        "# Conversational Memory"
      ]
    },
    {
      "cell_type": "code",
      "execution_count": null,
      "metadata": {
        "colab": {
          "base_uri": "https://localhost:8080/"
        },
        "id": "4Q2V8Z9VMm5A",
        "outputId": "b34f025a-2a5a-4e0f-8bf6-f2c75e9d647b"
      },
      "outputs": [],
      "source": [
        "!pip install -qU langchain langchain-openai langchain-google-genai"
      ]
    },
    {
      "cell_type": "code",
      "execution_count": 1,
      "metadata": {
        "id": "nMiX0GhWMtNk"
      },
      "outputs": [],
      "source": [
        "import os\n",
        "from getpass import getpass"
      ]
    },
    {
      "cell_type": "code",
      "execution_count": 2,
      "metadata": {},
      "outputs": [],
      "source": [
        "os.environ['OPENAI_API_KEY'] = getpass()"
      ]
    },
    {
      "cell_type": "code",
      "execution_count": 3,
      "metadata": {
        "id": "pGTxZwf5iM90"
      },
      "outputs": [],
      "source": [
        "os.environ['GOOGLE_API_KEY'] = getpass()"
      ]
    },
    {
      "cell_type": "markdown",
      "metadata": {},
      "source": [
        "## Without Memory"
      ]
    },
    {
      "cell_type": "code",
      "execution_count": 4,
      "metadata": {
        "id": "kopsuc39uhkD"
      },
      "outputs": [],
      "source": [
        "from langchain_openai import ChatOpenAI\n",
        "gpt3_model = ChatOpenAI(model = \"gpt-3.5-turbo-0125\" , temperature=0.7)\n",
        "\n",
        "\n",
        "from langchain_google_genai import ChatGoogleGenerativeAI\n",
        "gemini_model = ChatGoogleGenerativeAI(model = \"gemini-pro\")"
      ]
    },
    {
      "cell_type": "code",
      "execution_count": null,
      "metadata": {
        "colab": {
          "base_uri": "https://localhost:8080/"
        },
        "id": "EOZWAubxuiIq",
        "outputId": "10125339-62b0-4e0b-a954-0514d5181f2e"
      },
      "outputs": [],
      "source": [
        "gpt3_model.invoke('Who is the first black president of USA?')"
      ]
    },
    {
      "cell_type": "code",
      "execution_count": null,
      "metadata": {
        "colab": {
          "base_uri": "https://localhost:8080/"
        },
        "id": "SYQ7NA0r57qG",
        "outputId": "75feb378-794c-4e7f-9d2c-3c43f133505d"
      },
      "outputs": [],
      "source": [
        "gpt3_model.invoke(\"When was he born?\")"
      ]
    },
    {
      "cell_type": "code",
      "execution_count": null,
      "metadata": {
        "colab": {
          "base_uri": "https://localhost:8080/"
        },
        "id": "I2CNCbrazoMO",
        "outputId": "9fc1c3bd-0e3e-4a81-85be-3a3c49b0fed4"
      },
      "outputs": [],
      "source": [
        "gemini_model.invoke(\"Who is the first African-American president of USA?\")"
      ]
    },
    {
      "cell_type": "code",
      "execution_count": null,
      "metadata": {
        "colab": {
          "base_uri": "https://localhost:8080/"
        },
        "id": "1Appc8VcjNz_",
        "outputId": "4e0b6b64-711d-4c33-a987-bd7eec3edc31"
      },
      "outputs": [],
      "source": [
        "gemini_model.invoke(\"When was he born?\")"
      ]
    },
    {
      "cell_type": "code",
      "execution_count": null,
      "metadata": {
        "colab": {
          "base_uri": "https://localhost:8080/"
        },
        "id": "MjBzsu7OjzOw",
        "outputId": "64dec41d-460b-4b79-ffeb-3ae133d721c1"
      },
      "outputs": [],
      "source": [
        "gemini_model.invoke(\"When did World War I start?\")"
      ]
    },
    {
      "cell_type": "markdown",
      "metadata": {},
      "source": [
        "## Adding Memory"
      ]
    },
    {
      "cell_type": "code",
      "execution_count": null,
      "metadata": {
        "id": "SdWd3l3wvPK2"
      },
      "outputs": [],
      "source": [
        "from langchain.chat_models import ChatOpenAI\n",
        "from langchain.chains import ConversationChain\n",
        "from langchain.memory import ConversationBufferMemory, ConversationSummaryMemory"
      ]
    },
    {
      "cell_type": "code",
      "execution_count": null,
      "metadata": {
        "id": "IOUdjD8rvoWp"
      },
      "outputs": [],
      "source": [
        "# memory = ConversationBufferMemory(k = 100)\n",
        "memory = ConversationSummaryMemory()\n",
        "\n",
        "conversation = ConversationChain(\n",
        "    llm=gpt3_model,\n",
        "    memory = memory\n",
        ")"
      ]
    },
    {
      "cell_type": "code",
      "execution_count": null,
      "metadata": {
        "colab": {
          "base_uri": "https://localhost:8080/",
          "height": 70
        },
        "id": "JXuCfnJ9vwzB",
        "outputId": "82b5aace-aa11-4fa7-e6b8-07624144de61"
      },
      "outputs": [],
      "source": [
        "conversation.predict(input='Who is the first black president of USA?')"
      ]
    },
    {
      "cell_type": "code",
      "execution_count": null,
      "metadata": {
        "colab": {
          "base_uri": "https://localhost:8080/",
          "height": 35
        },
        "id": "SsqbW4wZv5tO",
        "outputId": "3aae3714-061c-4b99-e6db-52da05f810d7"
      },
      "outputs": [],
      "source": [
        "conversation.predict(input = \"When was he born?\")"
      ]
    },
    {
      "cell_type": "code",
      "execution_count": null,
      "metadata": {
        "id": "zxiQD0TEKq6_"
      },
      "outputs": [],
      "source": [
        "conversation.predict(input = \"When did his tenure end?\")"
      ]
    },
    {
      "cell_type": "markdown",
      "metadata": {},
      "source": [
        "# RAG"
      ]
    },
    {
      "cell_type": "code",
      "execution_count": null,
      "metadata": {
        "id": "W_OxcCjTZOhg"
      },
      "outputs": [],
      "source": [
        "!pip install pypdf"
      ]
    },
    {
      "cell_type": "code",
      "execution_count": null,
      "metadata": {
        "id": "xWBnqohFv_dq"
      },
      "outputs": [],
      "source": [
        "from langchain.document_loaders import PyPDFLoader, TextLoader, NotionDirectoryLoader\n",
        "\n",
        "pdf_path = \"./Rahul_Nihalani_Resume.pdf\"\n",
        "loader = PyPDFLoader(pdf_path)\n",
        "pages = loader.load_and_split()\n",
        "print(pages[0].page_content)"
      ]
    },
    {
      "cell_type": "code",
      "execution_count": null,
      "metadata": {
        "id": "lc4hUf3utcgO"
      },
      "outputs": [],
      "source": [
        "!pip install -qU tiktoken faiss-cpu"
      ]
    },
    {
      "cell_type": "code",
      "execution_count": null,
      "metadata": {
        "id": "OyNUSMGTU7TQ"
      },
      "outputs": [],
      "source": [
        "from langchain.embeddings.openai import OpenAIEmbeddings\n",
        "\n",
        "embeddings = OpenAIEmbeddings()"
      ]
    },
    {
      "cell_type": "code",
      "execution_count": null,
      "metadata": {
        "id": "llTt2Nd9jo42"
      },
      "outputs": [],
      "source": [
        "from langchain.vectorstores import FAISS\n",
        "\n",
        "faiss_index = FAISS.from_documents(pages, embeddings)"
      ]
    },
    {
      "cell_type": "code",
      "execution_count": null,
      "metadata": {
        "collapsed": true,
        "id": "D7okQjKjuAQ8"
      },
      "outputs": [],
      "source": [
        "import re\n",
        "\n",
        "query = \"What is the document about?\"\n",
        "num_results = 2  # Number of results you want to retrieve\n",
        "search_type = \"similarity\"  # Choose between \"similarity\" and \"hybrid\"\n",
        "\n",
        "results = faiss_index.search(query, search_type, k=num_results)\n",
        "\n",
        "for result in results:\n",
        "    output_text = re.sub(r'(?<=\\w) (?=\\w)', '', result.page_content)\n",
        "    print(output_text)"
      ]
    }
  ],
  "metadata": {
    "colab": {
      "provenance": []
    },
    "kernelspec": {
      "display_name": "Python 3",
      "name": "python3"
    },
    "language_info": {
      "codemirror_mode": {
        "name": "ipython",
        "version": 3
      },
      "file_extension": ".py",
      "mimetype": "text/x-python",
      "name": "python",
      "nbconvert_exporter": "python",
      "pygments_lexer": "ipython3",
      "version": "3.11.5"
    }
  },
  "nbformat": 4,
  "nbformat_minor": 0
}
